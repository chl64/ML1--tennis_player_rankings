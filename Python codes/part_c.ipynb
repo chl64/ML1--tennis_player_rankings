{
 "cells": [
  {
   "cell_type": "code",
   "execution_count": 1,
   "metadata": {},
   "outputs": [
    {
     "name": "stdout",
     "output_type": "stream",
     "text": [
      "M = 107\n",
      "N = 1801\n",
      "[15, 0, 4, 10]\n"
     ]
    }
   ],
   "source": [
    "import scipy.io as sio\n",
    "import numpy as np\n",
    "import matplotlib.pyplot as plt\n",
    "%matplotlib inline\n",
    "\n",
    "import pandas as pd\n",
    "from cw2 import sorted_barplot\n",
    "\n",
    "data = sio.loadmat('tennis_data.mat')\n",
    "\n",
    "W = data['W']\n",
    "for i, player in enumerate(W):\n",
    "    W[i] = player[0]\n",
    "    \n",
    "G = data['G'] - 1\n",
    "\n",
    "# Number of players\n",
    "M = W.shape[0]\n",
    "\n",
    "# Number of Games\n",
    "N = G.shape[0]\n",
    "\n",
    "print('M =', M)\n",
    "print('N =', N)\n",
    "\n",
    "# -----------------------------------------\n",
    "\n",
    "names = ['Novak-Djokovic', 'Rafael-Nadal', 'Roger-Federer', 'Andy-Murray']\n",
    "ATP_top_players = []\n",
    "\n",
    "for name in names:\n",
    "    index = np.where(W == name)[0][0]\n",
    "    ATP_top_players.append(index)\n",
    "\n",
    "print(ATP_top_players)"
   ]
  },
  {
   "cell_type": "code",
   "execution_count": 2,
   "metadata": {
    "scrolled": false
   },
   "outputs": [],
   "source": [
    "'''\n",
    "# %matplotlib notebook\n",
    "%matplotlib inline\n",
    "\n",
    "nums_games = []\n",
    "\n",
    "# p = 15\n",
    "# p = 0\n",
    "for p in range(M):\n",
    "    games_won = np.where(G[:, 0] == p)[0]\n",
    "    games_lost = np.where(G[:, 1] == p)[0]\n",
    "    nums_games.append(games_won.shape[0] + games_lost.shape[0])    # no of games played by player p.\n",
    "\n",
    "nums_games = np.array(nums_games)\n",
    "    \n",
    "# W[np.argsort(nums_games)]\n",
    "# nums_games[np.argsort(nums_games)]\n",
    "\n",
    "from cw2 import sorted_barplot\n",
    "sorted_barplot(nums_games, W, 'number of games played')\n",
    "\n",
    "nums_games[15]\n",
    "'''\n",
    "None"
   ]
  },
  {
   "cell_type": "markdown",
   "metadata": {},
   "source": [
    "#### ^ From the bar plot above, the largest number of games played by a player is only 74, while the total number of games is 1801. This translates to each player has only at most 4.1% of the total games. This justifies the use of uncorrelatedness between two players' skills, even though two players having played the same game will introduce some correlatedness into their skills."
   ]
  },
  {
   "cell_type": "markdown",
   "metadata": {},
   "source": [
    "## c.1) MP: table of probabilities that a player's skill is higher than the other."
   ]
  },
  {
   "cell_type": "code",
   "execution_count": 3,
   "metadata": {},
   "outputs": [],
   "source": [
    "mean_skills_iters = np.load('b_result/mean_skills_iters.npy')\n",
    "skill_precisions_iters = np.load('b_result/precisions_iters.npy')"
   ]
  },
  {
   "cell_type": "code",
   "execution_count": 4,
   "metadata": {
    "scrolled": true
   },
   "outputs": [],
   "source": [
    "final_mean_skills = mean_skills_iters[:,-1]\n",
    "final_skill_variances = 1./skill_precisions_iters[:,-1]\n",
    "# final_skill_variances"
   ]
  },
  {
   "cell_type": "code",
   "execution_count": 5,
   "metadata": {},
   "outputs": [],
   "source": [
    "# Wrong method for calculating prob of higher skill\n",
    "'''\n",
    "import matplotlib.pyplot as plt\n",
    "import numpy as np\n",
    "%matplotlib inline\n",
    "\n",
    "def norm_intercept(m1,m2,std1,std2):\n",
    "    a = 1/(2*std1**2) - 1/(2*std2**2)\n",
    "    b = m2/(std2**2) - m1/(std1**2)\n",
    "    c = m1**2 /(2*std1**2) - m2**2 / (2*std2**2) - np.log(std2/std1)\n",
    "    return np.roots([a,b,c])\n",
    "\n",
    "m1 = 2.5\n",
    "std1 = 1.0\n",
    "m2 = 5.0\n",
    "std2 = 2.0\n",
    "\n",
    "result = norm_intercept(m1,m2,std1,std2)\n",
    "\n",
    "x = np.linspace(-5,9,10000)\n",
    "plt.plot(x,norm.pdf(x,m1,std1))\n",
    "plt.plot(x,norm.pdf(x,m2,std2))\n",
    "plt.plot(result,norm.pdf(result,m1,std1),'o')\n",
    "'''\n",
    "None"
   ]
  },
  {
   "cell_type": "markdown",
   "metadata": {},
   "source": [
    "### With the skills of two players assumed to be uncorrelated, the Gaussian pdf of their skill difference can be calculated from the Gaussian of each of their skills."
   ]
  },
  {
   "cell_type": "code",
   "execution_count": 6,
   "metadata": {},
   "outputs": [
    {
     "data": {
      "image/png": "[encoded data removed]",
      "text/plain": [
       "<Figure size 432x288 with 1 Axes>"
      ]
     },
     "metadata": {
      "needs_background": "light"
     },
     "output_type": "display_data"
    }
   ],
   "source": [
    "# Guassian of each ATP top players\n",
    "\n",
    "from scipy.stats import norm\n",
    "import matplotlib.pyplot as plt\n",
    "import numpy as np\n",
    "%matplotlib inline\n",
    "\n",
    "# for p in range(M):\n",
    "for p in ATP_top_players:\n",
    "\n",
    "    mean = final_mean_skills[p]\n",
    "    std = np.sqrt(final_skill_variances[p])\n",
    "    \n",
    "    x = np.linspace(0,3,10000)\n",
    "#     x = np.linspace(-5,+5,10000)\n",
    "#     plt.plot(x,norm.pdf(x,mean,std))\n",
    "    plt.plot(x,norm.pdf(x,mean,std), label = W[p][0])\n",
    "\n",
    "plt.legend()\n",
    "plt.xlabel('skill')\n",
    "plt.ylabel('pdf of skill')\n",
    "\n",
    "plt.savefig('b_result/b_result_MP_skills')"
   ]
  },
  {
   "cell_type": "code",
   "execution_count": 7,
   "metadata": {},
   "outputs": [
    {
     "name": "stdout",
     "output_type": "stream",
     "text": [
      "15 0\n",
      "15 4\n",
      "15 10\n",
      "0 4\n",
      "0 10\n",
      "4 10\n",
      "[0.413812791168092, 0.3662618139379379, 0.6042920024692797, -0.04755097723015411, 0.19047921130118772, 0.23803018853134184]\n",
      "[0.07096742200555456, 0.07538895621067737, 0.0769357026765476, 0.06704213212744839, 0.06858887859331861, 0.07301041279844142]\n"
     ]
    }
   ],
   "source": [
    "# mean and variance of the skill difference\n",
    "\n",
    "from scipy.stats import norm\n",
    "import numpy as np\n",
    "import matplotlib.pyplot as plt\n",
    "%matplotlib inline\n",
    "\n",
    "# print(norm.cdf(0))\n",
    "# print(norm.pdf(0))\n",
    "\n",
    "# p1s = np.concatenate([ [ATP_top_players[0]]*3, [ATP_top_players[1]]*2, [ATP_top_players[2]]*1 ])\n",
    "# p2s = np.concatenate([ATP_top_players[1:], ATP_top_players[2:], ATP_top_players[3:]])\n",
    "\n",
    "player_pairs = [(15,0), (15,4), (15,10), (0,4), (0,10), (4,10)]\n",
    "\n",
    "new_means = []\n",
    "new_vars = []\n",
    "\n",
    "for p1, p2 in player_pairs:\n",
    "    print(p1,p2)\n",
    "\n",
    "    mean1 = final_mean_skills[p1]\n",
    "    mean2 = final_mean_skills[p2]\n",
    "\n",
    "    var1 = final_skill_variances[p1]\n",
    "    var2 = final_skill_variances[p2]\n",
    "\n",
    "    new_mean = mean1 - mean2\n",
    "    new_var = var1 + var2\n",
    "    \n",
    "    new_means.append(new_mean)\n",
    "    new_vars.append(new_var)\n",
    "\n",
    "print(new_means)\n",
    "print(new_vars)"
   ]
  },
  {
   "cell_type": "code",
   "execution_count": 8,
   "metadata": {},
   "outputs": [
    {
     "data": {
      "text/plain": [
       "[0.9398323962860353,\n",
       " 0.9088889849969894,\n",
       " 0.985320306127701,\n",
       " 0.42714491280738276,\n",
       " 0.7664825653540128,\n",
       " 0.8108211786227342]"
      ]
     },
     "execution_count": 8,
     "metadata": {},
     "output_type": "execute_result"
    }
   ],
   "source": [
    "# Compute the probabilities of higher skills.\n",
    "\n",
    "probs_higher_skill = []\n",
    "\n",
    "for c in range(len(player_pairs)):\n",
    "    player_pair = player_pairs[c]\n",
    "    new_mean = new_means[c]\n",
    "    new_var = new_vars[c]\n",
    "\n",
    "    probs_higher_skill.append( 1 - norm.cdf(0, new_mean, np.sqrt(new_var)) )\n",
    "\n",
    "probs_higher_skill"
   ]
  },
  {
   "cell_type": "code",
   "execution_count": 9,
   "metadata": {},
   "outputs": [
    {
     "name": "stderr",
     "output_type": "stream",
     "text": [
      "D:\\Anaconda3\\Lib\\site-packages\\ipykernel_launcher.py:20: MatplotlibDeprecationWarning: Adding an axes using the same arguments as a previous axes currently reuses the earlier instance.  In a future version, a new instance will always be created and returned.  Meanwhile, this warning can be suppressed, and the future behavior ensured, by passing a unique label to each axes instance.\n"
     ]
    },
    {
     "data": {
      "image/png": "[encoded data removed]",
      "text/plain": [
       "<Figure size 432x288 with 1 Axes>"
      ]
     },
     "metadata": {
      "needs_background": "light"
     },
     "output_type": "display_data"
    }
   ],
   "source": [
    "c = 0\n",
    "\n",
    "player_pair = player_pairs[c]\n",
    "p1 = player_pair[0]\n",
    "p2 = player_pair[1]\n",
    "\n",
    "mean1 = final_mean_skills[p1]\n",
    "mean2 = final_mean_skills[p2]\n",
    "\n",
    "var1 = final_skill_variances[p1]\n",
    "var2 = final_skill_variances[p2]\n",
    "\n",
    "new_mean = new_means[c]\n",
    "new_var = new_vars[c]\n",
    "\n",
    "x = np.linspace(-1,3,10000)\n",
    "plt.plot(x,norm.pdf(x,mean1,np.sqrt(var1)), label = W[p1][0])\n",
    "plt.plot(x,norm.pdf(x,mean2,np.sqrt(var2)), label = W[p2][0])\n",
    "\n",
    "ax = plt.axes()\n",
    "plt.plot(x,norm.pdf(x,new_mean,np.sqrt(new_var)), '--', label = 'skill difference')\n",
    "\n",
    "# y = np.ma.masked_less(norm.pdf(x,new_mean,np.sqrt(new_var)), 0)\n",
    "ax.fill_between(x, norm.pdf(x,new_mean,np.sqrt(new_var)), where= x>=0,\\\n",
    "                alpha=0.5, facecolor='green', interpolate=True,\\\n",
    "                label='prob of higher skill')\n",
    "\n",
    "plt.legend()\n",
    "# plt.savefig('c_result/c_result_higher_skill_demo.jpg')"
   ]
  },
  {
   "cell_type": "markdown",
   "metadata": {},
   "source": [
    "## c.2) MP: table of probabilities that a player wins the match with the other player."
   ]
  },
  {
   "cell_type": "code",
   "execution_count": 10,
   "metadata": {},
   "outputs": [
    {
     "data": {
      "text/plain": [
       "(107,)"
      ]
     },
     "execution_count": 10,
     "metadata": {},
     "output_type": "execute_result"
    }
   ],
   "source": [
    "final_mean_skills.shape"
   ]
  },
  {
   "cell_type": "code",
   "execution_count": 11,
   "metadata": {},
   "outputs": [
    {
     "data": {
      "text/plain": [
       "(107,)"
      ]
     },
     "execution_count": 11,
     "metadata": {},
     "output_type": "execute_result"
    }
   ],
   "source": [
    "final_skill_variances.shape"
   ]
  },
  {
   "cell_type": "code",
   "execution_count": 12,
   "metadata": {},
   "outputs": [
    {
     "name": "stdout",
     "output_type": "stream",
     "text": [
      "means and variances of (skill difference + noise =) game outcomes\n",
      "[0.413812791168092, 0.3662618139379379, 0.6042920024692797, -0.04755097723015411, 0.19047921130118772, 0.23803018853134184]\n",
      "[1.0709674220055545, 1.0753889562106773, 1.0769357026765476, 1.0670421321274484, 1.0685888785933186, 1.0730104127984414]\n"
     ]
    }
   ],
   "source": [
    "# mean and variance of the skill difference\n",
    "\n",
    "from scipy.stats import norm\n",
    "import numpy as np\n",
    "import matplotlib.pyplot as plt\n",
    "%matplotlib inline\n",
    "\n",
    "# print(norm.cdf(0))\n",
    "# print(norm.pdf(0))\n",
    "\n",
    "# p1s = np.concatenate([ [ATP_top_players[0]]*3, [ATP_top_players[1]]*2, [ATP_top_players[2]]*1 ])\n",
    "# p2s = np.concatenate([ATP_top_players[1:], ATP_top_players[2:], ATP_top_players[3:]])\n",
    "\n",
    "player_pairs = [(15,0), (15,4), (15,10), (0,4), (0,10), (4,10)]\n",
    "\n",
    "new_means_n = []\n",
    "new_vars_n = []\n",
    "\n",
    "noise_mean = 0\n",
    "noise_var = 1\n",
    "\n",
    "\n",
    "for c in range(len(player_pairs)):\n",
    "\n",
    "    new_mean_n = new_means[c]\n",
    "    new_var_n = new_vars[c] + noise_var\n",
    "    \n",
    "    new_means_n.append(new_mean_n)\n",
    "    new_vars_n.append(new_var_n)\n",
    "\n",
    "print('means and variances of (skill difference + noise =) game outcomes')\n",
    "print(new_means_n)\n",
    "print(new_vars_n)"
   ]
  },
  {
   "cell_type": "code",
   "execution_count": 13,
   "metadata": {},
   "outputs": [
    {
     "data": {
      "text/plain": [
       "[0.6553728337379876,\n",
       " 0.6380271372143567,\n",
       " 0.719820020989274,\n",
       " 0.4816419998270708,\n",
       " 0.5730971165792581,\n",
       " 0.5908723057300087]"
      ]
     },
     "execution_count": 13,
     "metadata": {},
     "output_type": "execute_result"
    }
   ],
   "source": [
    "probs_win = []\n",
    "\n",
    "for c in range(len(player_pairs)):\n",
    "#     player_pair = player_pairs[c]\n",
    "    new_mean_n = new_means_n[c]\n",
    "    new_var_n = new_vars_n[c]\n",
    "\n",
    "    probs_win.append( 1 - norm.cdf(0, new_mean_n, np.sqrt(new_var_n)) )\n",
    "\n",
    "probs_win"
   ]
  },
  {
   "cell_type": "code",
   "execution_count": 42,
   "metadata": {},
   "outputs": [
    {
     "data": {
      "image/png": "[encoded data removed]",
      "text/plain": [
       "<Figure size 432x288 with 2 Axes>"
      ]
     },
     "metadata": {
      "needs_background": "light"
     },
     "output_type": "display_data"
    }
   ],
   "source": [
    "import matplotlib.colors as mcolors\n",
    "\n",
    "c = 0\n",
    "\n",
    "player_pair = player_pairs[c]\n",
    "p1 = player_pair[0]\n",
    "p2 = player_pair[1]\n",
    "\n",
    "mean1 = final_mean_skills[p1]\n",
    "mean2 = final_mean_skills[p2]\n",
    "\n",
    "var1 = final_skill_variances[p1]\n",
    "var2 = final_skill_variances[p2]\n",
    "\n",
    "new_mean = new_means[c]\n",
    "new_var = new_vars[c]\n",
    "\n",
    "new_mean_n = new_means_n[c]\n",
    "new_var_n = new_vars_n[c]\n",
    "\n",
    "x = np.linspace(-3.5,5.5,10000)\n",
    "\n",
    "\n",
    "# ax2 = ax1.twiny()\n",
    "ax2 = plt.axes()\n",
    "plt.plot(x,norm.pdf(x,new_mean,np.sqrt(new_var)), '--', color='aquamarine', label = 'skill difference')\n",
    "\n",
    "# y = np.ma.masked_less(norm.pdf(x,new_mean,np.sqrt(new_var)), 0)\n",
    "ax2.fill_between(x, norm.pdf(x,new_mean,np.sqrt(new_var)), where= x>=0,\\\n",
    "                alpha=0.5, facecolor='aquamarine', interpolate=True,\\\n",
    "                label='prob of higher skill')\n",
    "\n",
    "\n",
    "plt.plot(x,norm.pdf(x,new_mean_n,np.sqrt(new_var_n)), '-.', color='magenta', label = 'performance difference')\n",
    "ax2.fill_between(x, norm.pdf(x,new_mean_n,np.sqrt(new_var_n)), where= x>=0,\\\n",
    "                alpha=0.3, facecolor='magenta', interpolate=True,\\\n",
    "                label='prob of winning')\n",
    "\n",
    "plt.legend(loc=2)\n",
    "plt.xlabel('skill / performance difference')\n",
    "plt.ylabel('pdf')\n",
    "\n",
    "ax1 = ax2.twiny()\n",
    "plt.plot(x,norm.pdf(x,mean1,np.sqrt(var1)), label = W[p1][0])\n",
    "plt.plot(x,norm.pdf(x,mean2,np.sqrt(var2)), label = W[p2][0])\n",
    "\n",
    "\n",
    "plt.legend(loc=1)\n",
    "plt.xlabel('skill')\n",
    "\n",
    "plt.savefig('c_result/c_higher_skill_winning_demo.jpg')\n",
    "\n",
    "\n",
    "\n",
    "\n",
    "# ax1 = fig.add_subplot(111)\n",
    "# ax2 = ax1.twiny()\n",
    "\n",
    "# X = np.linspace(0,1,1000)\n",
    "# Y = np.cos(X*20)\n",
    "\n",
    "# ax1.plot(X,Y)\n",
    "# ax1.set_xlabel(r\"Original x-axis: $X$\")\n",
    "\n",
    "# new_tick_locations = np.array([.2, .5, .9])\n",
    "\n",
    "# def tick_function(X):\n",
    "#     V = 1/(1+X)\n",
    "#     return [\"%.3f\" % z for z in V]\n",
    "\n",
    "# ax2.set_xlim(ax1.get_xlim())\n",
    "# ax2.set_xticks(new_tick_locations)\n",
    "# ax2.set_xticklabels(tick_function(new_tick_locations))\n",
    "# ax2.set_xlabel(r\"Modified x-axis: $1/(1+X)$\")"
   ]
  }
 ],
 "metadata": {
  "kernelspec": {
   "display_name": "Python 3",
   "language": "python",
   "name": "python3"
  },
  "language_info": {
   "codemirror_mode": {
    "name": "ipython",
    "version": 3
   },
   "file_extension": ".py",
   "mimetype": "text/x-python",
   "name": "python",
   "nbconvert_exporter": "python",
   "pygments_lexer": "ipython3",
   "version": "3.6.8"
  }
 },
 "nbformat": 4,
 "nbformat_minor": 2
}
