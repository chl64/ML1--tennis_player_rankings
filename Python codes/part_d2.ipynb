{
 "cells": [
  {
   "cell_type": "code",
   "execution_count": 2,
   "metadata": {},
   "outputs": [
    {
     "name": "stdout",
     "output_type": "stream",
     "text": [
      "M = 107\n",
      "N = 1801\n",
      "[15, 0, 4, 10]\n"
     ]
    }
   ],
   "source": [
    "import scipy.io as sio\n",
    "import numpy as np\n",
    "import matplotlib.pyplot as plt\n",
    "%matplotlib inline\n",
    "\n",
    "import pandas as pd\n",
    "from cw2 import sorted_barplot\n",
    "\n",
    "from scipy.stats import norm\n",
    "\n",
    "data = sio.loadmat('tennis_data.mat')\n",
    "\n",
    "W = data['W']\n",
    "for i, player in enumerate(W):\n",
    "    W[i] = player[0]\n",
    "    \n",
    "G = data['G'] - 1\n",
    "\n",
    "# Number of players\n",
    "M = W.shape[0]\n",
    "\n",
    "# Number of Games\n",
    "N = G.shape[0]\n",
    "\n",
    "print('M =', M)\n",
    "print('N =', N)\n",
    "\n",
    "# -----------------------------------------\n",
    "\n",
    "names = ['Novak-Djokovic', 'Rafael-Nadal', 'Roger-Federer', 'Andy-Murray']\n",
    "ATP_top_players = []\n",
    "\n",
    "for name in names:\n",
    "    index = np.where(W == name)[0][0]\n",
    "    ATP_top_players.append(index)\n",
    "\n",
    "print(ATP_top_players)"
   ]
  },
  {
   "cell_type": "code",
   "execution_count": 3,
   "metadata": {},
   "outputs": [
    {
     "data": {
      "text/plain": [
       "(107, 30000)"
      ]
     },
     "execution_count": 3,
     "metadata": {},
     "output_type": "execute_result"
    }
   ],
   "source": [
    "skill_samples = np.load('a_result/skill_samples0(30000iters).npy')\n",
    "skill_samples.shape"
   ]
  },
  {
   "cell_type": "markdown",
   "metadata": {},
   "source": [
    "## d) Gibbs: table of probabilities of higher skills"
   ]
  },
  {
   "cell_type": "code",
   "execution_count": 5,
   "metadata": {},
   "outputs": [
    {
     "name": "stdout",
     "output_type": "stream",
     "text": [
      "15 0\n",
      "prob of higher skill = 0.9495\n",
      "15 4\n",
      "prob of higher skill = 0.913\n",
      "15 10\n",
      "prob of higher skill = 0.9925\n",
      "0 4\n",
      "prob of higher skill = 0.45\n",
      "0 10\n",
      "prob of higher skill = 0.791\n",
      "4 10\n",
      "prob of higher skill = 0.804\n"
     ]
    }
   ],
   "source": [
    "# Thinning\n",
    "\n",
    "i_thinning = 15\n",
    "thinned_samples = skill_samples[:,::i_thinning]\n",
    "\n",
    "player_pairs = [(15,0), (15,4), (15,10), (0,4), (0,10), (4,10)]\n",
    "\n",
    "# p1 = 15\n",
    "# p2 = 0\n",
    "\n",
    "for c in player_pairs:\n",
    "\n",
    "    p1 = c[0]\n",
    "    p2 = c[1]\n",
    "    print(p1,p2)\n",
    "    \n",
    "    p1_thinned_samples = thinned_samples[p1,:]\n",
    "    p2_thinned_samples = thinned_samples[p2,:]\n",
    "\n",
    "    counter = 0\n",
    "\n",
    "    for i in range(len(p1_thinned_samples)):\n",
    "        if p1_thinned_samples[i] > p2_thinned_samples[i]:\n",
    "            counter += 1\n",
    "\n",
    "    print('prob of higher skill =', counter / len(p1_thinned_samples))"
   ]
  }
 ],
 "metadata": {
  "kernelspec": {
   "display_name": "Python 3",
   "language": "python",
   "name": "python3"
  },
  "language_info": {
   "codemirror_mode": {
    "name": "ipython",
    "version": 3
   },
   "file_extension": ".py",
   "mimetype": "text/x-python",
   "name": "python",
   "nbconvert_exporter": "python",
   "pygments_lexer": "ipython3",
   "version": "3.6.8"
  }
 },
 "nbformat": 4,
 "nbformat_minor": 2
}
